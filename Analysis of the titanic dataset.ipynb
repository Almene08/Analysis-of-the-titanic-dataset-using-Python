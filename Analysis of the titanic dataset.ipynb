{
 "cells": [
  {
   "cell_type": "markdown",
   "id": "75f05d63",
   "metadata": {},
   "source": [
    "## Analysis of the titanic dataset"
   ]
  },
  {
   "cell_type": "markdown",
   "id": "8c69949a",
   "metadata": {},
   "source": [
    "In this work, we are doing the data analysis of titanic dataset. Our goal is to extract some insights from the\n",
    "data in order to understand details about the catastrophe. Before doing anything, we need to import some relevants libraries you may used."
   ]
  },
  {
   "cell_type": "code",
   "execution_count": 59,
   "id": "c1c860b2",
   "metadata": {},
   "outputs": [],
   "source": [
    "### Relevant librairies ###\n",
    "import pandas as pd\n",
    "import matplotlib.pyplot as plt\n",
    "import numpy as np\n",
    "import seaborn as snb\n",
    "import warnings \n",
    "warnings.filterwarnings('ignore')"
   ]
  },
  {
   "cell_type": "markdown",
   "id": "282bee8e",
   "metadata": {},
   "source": [
    "Let us use our common sense to read the data into an understandable format."
   ]
  },
  {
   "cell_type": "code",
   "execution_count": 2,
   "id": "fcaa2658",
   "metadata": {},
   "outputs": [
    {
     "data": {
      "text/html": [
       "<div>\n",
       "<style scoped>\n",
       "    .dataframe tbody tr th:only-of-type {\n",
       "        vertical-align: middle;\n",
       "    }\n",
       "\n",
       "    .dataframe tbody tr th {\n",
       "        vertical-align: top;\n",
       "    }\n",
       "\n",
       "    .dataframe thead th {\n",
       "        text-align: right;\n",
       "    }\n",
       "</style>\n",
       "<table border=\"1\" class=\"dataframe\">\n",
       "  <thead>\n",
       "    <tr style=\"text-align: right;\">\n",
       "      <th></th>\n",
       "      <th>PassengerId</th>\n",
       "      <th>Survived</th>\n",
       "      <th>Pclass</th>\n",
       "      <th>Name</th>\n",
       "      <th>Sex</th>\n",
       "      <th>Age</th>\n",
       "      <th>SibSp</th>\n",
       "      <th>Parch</th>\n",
       "      <th>Ticket</th>\n",
       "      <th>Fare</th>\n",
       "      <th>Cabin</th>\n",
       "      <th>Embarked</th>\n",
       "    </tr>\n",
       "  </thead>\n",
       "  <tbody>\n",
       "    <tr>\n",
       "      <th>0</th>\n",
       "      <td>1</td>\n",
       "      <td>0</td>\n",
       "      <td>3</td>\n",
       "      <td>Braund, Mr. Owen Harris</td>\n",
       "      <td>male</td>\n",
       "      <td>22.0</td>\n",
       "      <td>1</td>\n",
       "      <td>0</td>\n",
       "      <td>A/5 21171</td>\n",
       "      <td>7.2500</td>\n",
       "      <td>NaN</td>\n",
       "      <td>S</td>\n",
       "    </tr>\n",
       "    <tr>\n",
       "      <th>1</th>\n",
       "      <td>2</td>\n",
       "      <td>1</td>\n",
       "      <td>1</td>\n",
       "      <td>Cumings, Mrs. John Bradley (Florence Briggs Th...</td>\n",
       "      <td>female</td>\n",
       "      <td>38.0</td>\n",
       "      <td>1</td>\n",
       "      <td>0</td>\n",
       "      <td>PC 17599</td>\n",
       "      <td>71.2833</td>\n",
       "      <td>C85</td>\n",
       "      <td>C</td>\n",
       "    </tr>\n",
       "    <tr>\n",
       "      <th>2</th>\n",
       "      <td>3</td>\n",
       "      <td>1</td>\n",
       "      <td>3</td>\n",
       "      <td>Heikkinen, Miss. Laina</td>\n",
       "      <td>female</td>\n",
       "      <td>26.0</td>\n",
       "      <td>0</td>\n",
       "      <td>0</td>\n",
       "      <td>STON/O2. 3101282</td>\n",
       "      <td>7.9250</td>\n",
       "      <td>NaN</td>\n",
       "      <td>S</td>\n",
       "    </tr>\n",
       "    <tr>\n",
       "      <th>3</th>\n",
       "      <td>4</td>\n",
       "      <td>1</td>\n",
       "      <td>1</td>\n",
       "      <td>Futrelle, Mrs. Jacques Heath (Lily May Peel)</td>\n",
       "      <td>female</td>\n",
       "      <td>35.0</td>\n",
       "      <td>1</td>\n",
       "      <td>0</td>\n",
       "      <td>113803</td>\n",
       "      <td>53.1000</td>\n",
       "      <td>C123</td>\n",
       "      <td>S</td>\n",
       "    </tr>\n",
       "    <tr>\n",
       "      <th>4</th>\n",
       "      <td>5</td>\n",
       "      <td>0</td>\n",
       "      <td>3</td>\n",
       "      <td>Allen, Mr. William Henry</td>\n",
       "      <td>male</td>\n",
       "      <td>35.0</td>\n",
       "      <td>0</td>\n",
       "      <td>0</td>\n",
       "      <td>373450</td>\n",
       "      <td>8.0500</td>\n",
       "      <td>NaN</td>\n",
       "      <td>S</td>\n",
       "    </tr>\n",
       "    <tr>\n",
       "      <th>...</th>\n",
       "      <td>...</td>\n",
       "      <td>...</td>\n",
       "      <td>...</td>\n",
       "      <td>...</td>\n",
       "      <td>...</td>\n",
       "      <td>...</td>\n",
       "      <td>...</td>\n",
       "      <td>...</td>\n",
       "      <td>...</td>\n",
       "      <td>...</td>\n",
       "      <td>...</td>\n",
       "      <td>...</td>\n",
       "    </tr>\n",
       "    <tr>\n",
       "      <th>886</th>\n",
       "      <td>887</td>\n",
       "      <td>0</td>\n",
       "      <td>2</td>\n",
       "      <td>Montvila, Rev. Juozas</td>\n",
       "      <td>male</td>\n",
       "      <td>27.0</td>\n",
       "      <td>0</td>\n",
       "      <td>0</td>\n",
       "      <td>211536</td>\n",
       "      <td>13.0000</td>\n",
       "      <td>NaN</td>\n",
       "      <td>S</td>\n",
       "    </tr>\n",
       "    <tr>\n",
       "      <th>887</th>\n",
       "      <td>888</td>\n",
       "      <td>1</td>\n",
       "      <td>1</td>\n",
       "      <td>Graham, Miss. Margaret Edith</td>\n",
       "      <td>female</td>\n",
       "      <td>19.0</td>\n",
       "      <td>0</td>\n",
       "      <td>0</td>\n",
       "      <td>112053</td>\n",
       "      <td>30.0000</td>\n",
       "      <td>B42</td>\n",
       "      <td>S</td>\n",
       "    </tr>\n",
       "    <tr>\n",
       "      <th>888</th>\n",
       "      <td>889</td>\n",
       "      <td>0</td>\n",
       "      <td>3</td>\n",
       "      <td>Johnston, Miss. Catherine Helen \"Carrie\"</td>\n",
       "      <td>female</td>\n",
       "      <td>NaN</td>\n",
       "      <td>1</td>\n",
       "      <td>2</td>\n",
       "      <td>W./C. 6607</td>\n",
       "      <td>23.4500</td>\n",
       "      <td>NaN</td>\n",
       "      <td>S</td>\n",
       "    </tr>\n",
       "    <tr>\n",
       "      <th>889</th>\n",
       "      <td>890</td>\n",
       "      <td>1</td>\n",
       "      <td>1</td>\n",
       "      <td>Behr, Mr. Karl Howell</td>\n",
       "      <td>male</td>\n",
       "      <td>26.0</td>\n",
       "      <td>0</td>\n",
       "      <td>0</td>\n",
       "      <td>111369</td>\n",
       "      <td>30.0000</td>\n",
       "      <td>C148</td>\n",
       "      <td>C</td>\n",
       "    </tr>\n",
       "    <tr>\n",
       "      <th>890</th>\n",
       "      <td>891</td>\n",
       "      <td>0</td>\n",
       "      <td>3</td>\n",
       "      <td>Dooley, Mr. Patrick</td>\n",
       "      <td>male</td>\n",
       "      <td>32.0</td>\n",
       "      <td>0</td>\n",
       "      <td>0</td>\n",
       "      <td>370376</td>\n",
       "      <td>7.7500</td>\n",
       "      <td>NaN</td>\n",
       "      <td>Q</td>\n",
       "    </tr>\n",
       "  </tbody>\n",
       "</table>\n",
       "<p>891 rows × 12 columns</p>\n",
       "</div>"
      ],
      "text/plain": [
       "     PassengerId  Survived  Pclass  \\\n",
       "0              1         0       3   \n",
       "1              2         1       1   \n",
       "2              3         1       3   \n",
       "3              4         1       1   \n",
       "4              5         0       3   \n",
       "..           ...       ...     ...   \n",
       "886          887         0       2   \n",
       "887          888         1       1   \n",
       "888          889         0       3   \n",
       "889          890         1       1   \n",
       "890          891         0       3   \n",
       "\n",
       "                                                  Name     Sex   Age  SibSp  \\\n",
       "0                              Braund, Mr. Owen Harris    male  22.0      1   \n",
       "1    Cumings, Mrs. John Bradley (Florence Briggs Th...  female  38.0      1   \n",
       "2                               Heikkinen, Miss. Laina  female  26.0      0   \n",
       "3         Futrelle, Mrs. Jacques Heath (Lily May Peel)  female  35.0      1   \n",
       "4                             Allen, Mr. William Henry    male  35.0      0   \n",
       "..                                                 ...     ...   ...    ...   \n",
       "886                              Montvila, Rev. Juozas    male  27.0      0   \n",
       "887                       Graham, Miss. Margaret Edith  female  19.0      0   \n",
       "888           Johnston, Miss. Catherine Helen \"Carrie\"  female   NaN      1   \n",
       "889                              Behr, Mr. Karl Howell    male  26.0      0   \n",
       "890                                Dooley, Mr. Patrick    male  32.0      0   \n",
       "\n",
       "     Parch            Ticket     Fare Cabin Embarked  \n",
       "0        0         A/5 21171   7.2500   NaN        S  \n",
       "1        0          PC 17599  71.2833   C85        C  \n",
       "2        0  STON/O2. 3101282   7.9250   NaN        S  \n",
       "3        0            113803  53.1000  C123        S  \n",
       "4        0            373450   8.0500   NaN        S  \n",
       "..     ...               ...      ...   ...      ...  \n",
       "886      0            211536  13.0000   NaN        S  \n",
       "887      0            112053  30.0000   B42        S  \n",
       "888      2        W./C. 6607  23.4500   NaN        S  \n",
       "889      0            111369  30.0000  C148        C  \n",
       "890      0            370376   7.7500   NaN        Q  \n",
       "\n",
       "[891 rows x 12 columns]"
      ]
     },
     "execution_count": 2,
     "metadata": {},
     "output_type": "execute_result"
    }
   ],
   "source": [
    "url = \"https://raw.githubusercontent.com/rock-feller/Datasets_for_Education/main/data_01/titanic_data.csv\"\n",
    "df = pd.read_csv(url, sep=\"&\")\n",
    "df"
   ]
  },
  {
   "cell_type": "markdown",
   "id": "f5a626d1",
   "metadata": {},
   "source": [
    "Let us try to understand the data set. "
   ]
  },
  {
   "cell_type": "code",
   "execution_count": 3,
   "id": "a521f11b",
   "metadata": {},
   "outputs": [
    {
     "name": "stdout",
     "output_type": "stream",
     "text": [
      "<class 'pandas.core.frame.DataFrame'>\n",
      "RangeIndex: 891 entries, 0 to 890\n",
      "Data columns (total 12 columns):\n",
      " #   Column       Non-Null Count  Dtype  \n",
      "---  ------       --------------  -----  \n",
      " 0   PassengerId  891 non-null    int64  \n",
      " 1   Survived     891 non-null    int64  \n",
      " 2   Pclass       891 non-null    int64  \n",
      " 3   Name         891 non-null    object \n",
      " 4   Sex          891 non-null    object \n",
      " 5   Age          714 non-null    float64\n",
      " 6   SibSp        891 non-null    int64  \n",
      " 7   Parch        891 non-null    int64  \n",
      " 8   Ticket       891 non-null    object \n",
      " 9   Fare         891 non-null    float64\n",
      " 10  Cabin        204 non-null    object \n",
      " 11  Embarked     889 non-null    object \n",
      "dtypes: float64(2), int64(5), object(5)\n",
      "memory usage: 83.7+ KB\n"
     ]
    }
   ],
   "source": [
    "df.info()"
   ]
  },
  {
   "cell_type": "markdown",
   "id": "4c0ed7f0",
   "metadata": {},
   "source": [
    "From the info, we can see that the data has 12 columns and 891 entries. The types of varaibles are either 'int64' or 'float64'. Also only three variables \" Age\" , \"Embarked\" and \"Cabin\" have missing values. While ‘Cabin’ has huge amount null values, ‘Age’ has moderate amount of null values and \"Embarked\" has 2. So if we have to perform a model, we might have to drop the variable \"Cabin\"."
   ]
  },
  {
   "cell_type": "markdown",
   "id": "0b95ff67",
   "metadata": {},
   "source": [
    "## 1. How many passengers from the middle class embarked from Cherbourg Port? From Queenstown Port? From Southampton Port? For each of embarkation ports, what is the proportion that survived the sink."
   ]
  },
  {
   "cell_type": "code",
   "execution_count": 4,
   "id": "e08a4a07",
   "metadata": {},
   "outputs": [
    {
     "data": {
      "text/plain": [
       "(184, 12)"
      ]
     },
     "execution_count": 4,
     "metadata": {},
     "output_type": "execute_result"
    }
   ],
   "source": [
    "df[df['Pclass'] ==2].shape\n"
   ]
  },
  {
   "cell_type": "code",
   "execution_count": 5,
   "id": "05f57379",
   "metadata": {},
   "outputs": [
    {
     "name": "stdout",
     "output_type": "stream",
     "text": [
      "(17, 12)\n"
     ]
    },
    {
     "data": {
      "text/plain": [
       "52.94117647058823"
      ]
     },
     "execution_count": 5,
     "metadata": {},
     "output_type": "execute_result"
    }
   ],
   "source": [
    "### Number of passengers from class 2 embarked from Cherbourg Port ###\n",
    "N1 = df[(df[\"Pclass\"] == 2) & (df[\"Embarked\"] ==\"C\")]\n",
    "print(N1.shape)\n",
    "N1_survived = N1[df[\"Survived\"]==1]\n",
    "prop_survived_N1 = 100*N1_survived.shape[0]/N1.shape[0]\n",
    "prop_survived_N1"
   ]
  },
  {
   "cell_type": "code",
   "execution_count": 6,
   "id": "e450aeeb",
   "metadata": {},
   "outputs": [
    {
     "name": "stdout",
     "output_type": "stream",
     "text": [
      "(3, 12)\n"
     ]
    },
    {
     "data": {
      "text/plain": [
       "66.66666666666667"
      ]
     },
     "execution_count": 6,
     "metadata": {},
     "output_type": "execute_result"
    }
   ],
   "source": [
    "### Number of passengers from class 2 embarked from  Queenstown Port ###\n",
    "N2 = df[(df[\"Pclass\"] == 2) & (df[\"Embarked\"] ==\"Q\")]\n",
    "print(N2.shape)\n",
    "N2_survived = N2[df[\"Survived\"]==1]\n",
    "prop_survived_N2 = 100*N2_survived.shape[0]/N2.shape[0]\n",
    "prop_survived_N2"
   ]
  },
  {
   "cell_type": "code",
   "execution_count": 7,
   "id": "c8746fcf",
   "metadata": {},
   "outputs": [
    {
     "name": "stdout",
     "output_type": "stream",
     "text": [
      "(164, 12)\n"
     ]
    },
    {
     "data": {
      "text/plain": [
       "46.34146341463415"
      ]
     },
     "execution_count": 7,
     "metadata": {},
     "output_type": "execute_result"
    }
   ],
   "source": [
    "### Number of passengers from class 2 embarked from  Southampton Port ###\n",
    "N3 = df[(df[\"Pclass\"] == 2) & (df[\"Embarked\"] ==\"S\")]\n",
    "print(N3.shape)\n",
    "N3_survived = N3[df[\"Survived\"]==1]\n",
    "prop_survived_N3 = 100*N3_survived.shape[0]/N3.shape[0]\n",
    "prop_survived_N3"
   ]
  },
  {
   "cell_type": "code",
   "execution_count": 8,
   "id": "ecc686b6",
   "metadata": {},
   "outputs": [
    {
     "data": {
      "text/plain": [
       "(891,)"
      ]
     },
     "execution_count": 8,
     "metadata": {},
     "output_type": "execute_result"
    }
   ],
   "source": [
    "df['Pclass'].shape"
   ]
  },
  {
   "cell_type": "markdown",
   "id": "7de07af4",
   "metadata": {},
   "source": [
    "From this analysis, we find that out of 184 passengers from the middle class, those embarked from Cherbourg Port were 17 and 53\\% survived the sink; 3 passengers embarked from Queenstown Port and 67\\% survived and 164 embarked from Southampton Port with 46 \\% survived the sink."
   ]
  },
  {
   "cell_type": "markdown",
   "id": "dee5b561",
   "metadata": {},
   "source": [
    "## 2. At that time, it was reported that not so many women boarded into the Titanic? What proportion did they represent within the lower class?"
   ]
  },
  {
   "cell_type": "code",
   "execution_count": 9,
   "id": "4d3ceb01",
   "metadata": {},
   "outputs": [
    {
     "data": {
      "text/plain": [
       "array(['male', 'female'], dtype=object)"
      ]
     },
     "execution_count": 9,
     "metadata": {},
     "output_type": "execute_result"
    }
   ],
   "source": [
    "df[\"Sex\"].unique()"
   ]
  },
  {
   "cell_type": "code",
   "execution_count": 10,
   "id": "c456b05b",
   "metadata": {},
   "outputs": [
    {
     "name": "stdout",
     "output_type": "stream",
     "text": [
      "At that time, women represented 29.3 % within the lower class\n"
     ]
    }
   ],
   "source": [
    "Nbr_women1 = df[ (df[\"Pclass\"] == 3) & (df[\"Sex\"] == \"female\")].shape[0]\n",
    "Tot_Nbr1 = df[(df[\"Pclass\"] == 3) & (df[\"Sex\"])].shape[0]\n",
    "prop_women1 = 100*Nbr_women1/Tot_Nbr1\n",
    "print(\"At that time, women represented\", round(prop_women1, 1),\"% within the lower class\" )"
   ]
  },
  {
   "cell_type": "markdown",
   "id": "8e47568c",
   "metadata": {},
   "source": [
    "## 3. Some of the passengers travelled abroad to see their family (including parents, siblings, children, spouse) and some others took the trip just for leisure. What proportion did the latter represent? How many of them came from Southampton?"
   ]
  },
  {
   "cell_type": "code",
   "execution_count": 11,
   "id": "8181d5a0",
   "metadata": {},
   "outputs": [
    {
     "name": "stdout",
     "output_type": "stream",
     "text": [
      "537\n",
      "60.3 % of people took the trip just for leisure\n"
     ]
    }
   ],
   "source": [
    "Nbre_leisure = df[ (df[\"SibSp\"] == 0) & (df[\"Parch\"] == 0)].shape[0]\n",
    "print(Nbre_leisure)\n",
    "Tot_Nbr1 = 891\n",
    "prop_leisure = 100*Nbre_leisure/Tot_Nbr1\n",
    "print(round(prop_leisure, 1),\"% of people took the trip just for leisure\" )"
   ]
  },
  {
   "cell_type": "markdown",
   "id": "5937ca01",
   "metadata": {},
   "source": [
    "we can see that $60.3\\%$ of people took titanic just for leisure, to have fun which means that they died while try to relax and enjoy."
   ]
  },
  {
   "cell_type": "code",
   "execution_count": 12,
   "id": "f3925c3d",
   "metadata": {},
   "outputs": [
    {
     "data": {
      "text/plain": [
       "393"
      ]
     },
     "execution_count": 12,
     "metadata": {},
     "output_type": "execute_result"
    }
   ],
   "source": [
    "## Number of people came from southampton just for leisure ##\n",
    "df[ (df[\"SibSp\"] == 0) & (df[\"Parch\"] == 0)& (df[\"Embarked\"] ==\"S\")].shape[0]"
   ]
  },
  {
   "cell_type": "markdown",
   "id": "91498d07",
   "metadata": {},
   "source": [
    "Out of 537 who travelled for leisure, most of them (393 people) came from southampton. This could tell us that that area is where people like adventures, leisure very much. "
   ]
  },
  {
   "cell_type": "markdown",
   "id": "d67cd9de",
   "metadata": {},
   "source": [
    "Let us read the second data set which contains some additional piece of information about the passengers recently discovered by the Southampton Archeological Services (SAS). The purpose is to further our analysis."
   ]
  },
  {
   "cell_type": "code",
   "execution_count": 13,
   "id": "e07fff45",
   "metadata": {},
   "outputs": [
    {
     "data": {
      "text/html": [
       "<div>\n",
       "<style scoped>\n",
       "    .dataframe tbody tr th:only-of-type {\n",
       "        vertical-align: middle;\n",
       "    }\n",
       "\n",
       "    .dataframe tbody tr th {\n",
       "        vertical-align: top;\n",
       "    }\n",
       "\n",
       "    .dataframe thead th {\n",
       "        text-align: right;\n",
       "    }\n",
       "</style>\n",
       "<table border=\"1\" class=\"dataframe\">\n",
       "  <thead>\n",
       "    <tr style=\"text-align: right;\">\n",
       "      <th></th>\n",
       "      <th>country_origin</th>\n",
       "      <th>PassengerId</th>\n",
       "      <th>Boarding_date</th>\n",
       "      <th>status_diseases</th>\n",
       "    </tr>\n",
       "  </thead>\n",
       "  <tbody>\n",
       "    <tr>\n",
       "      <th>0</th>\n",
       "      <td>Norway</td>\n",
       "      <td>884</td>\n",
       "      <td>1867-04-23</td>\n",
       "      <td>inf_pneumonia</td>\n",
       "    </tr>\n",
       "    <tr>\n",
       "      <th>1</th>\n",
       "      <td>French</td>\n",
       "      <td>765</td>\n",
       "      <td>1867-05-01</td>\n",
       "      <td>inf_measles</td>\n",
       "    </tr>\n",
       "    <tr>\n",
       "      <th>2</th>\n",
       "      <td>France</td>\n",
       "      <td>355</td>\n",
       "      <td>1867-04-03</td>\n",
       "      <td>inf_pneumonia</td>\n",
       "    </tr>\n",
       "    <tr>\n",
       "      <th>3</th>\n",
       "      <td>Spain</td>\n",
       "      <td>56</td>\n",
       "      <td>1867-03-24</td>\n",
       "      <td>rec_measles</td>\n",
       "    </tr>\n",
       "    <tr>\n",
       "      <th>4</th>\n",
       "      <td>UK</td>\n",
       "      <td>96</td>\n",
       "      <td>1867-04-15</td>\n",
       "      <td>inf_measles</td>\n",
       "    </tr>\n",
       "    <tr>\n",
       "      <th>...</th>\n",
       "      <td>...</td>\n",
       "      <td>...</td>\n",
       "      <td>...</td>\n",
       "      <td>...</td>\n",
       "    </tr>\n",
       "    <tr>\n",
       "      <th>886</th>\n",
       "      <td>uk</td>\n",
       "      <td>140</td>\n",
       "      <td>1867-04-22</td>\n",
       "      <td>inf_pneumonia</td>\n",
       "    </tr>\n",
       "    <tr>\n",
       "      <th>887</th>\n",
       "      <td>uk</td>\n",
       "      <td>829</td>\n",
       "      <td>1867-04-29</td>\n",
       "      <td>rec_pneumonia</td>\n",
       "    </tr>\n",
       "    <tr>\n",
       "      <th>888</th>\n",
       "      <td>Den_mark</td>\n",
       "      <td>27</td>\n",
       "      <td>1867-04-12</td>\n",
       "      <td>rec_flu</td>\n",
       "    </tr>\n",
       "    <tr>\n",
       "      <th>889</th>\n",
       "      <td>France</td>\n",
       "      <td>257</td>\n",
       "      <td>1867-04-01</td>\n",
       "      <td>inf_pneumonia</td>\n",
       "    </tr>\n",
       "    <tr>\n",
       "      <th>890</th>\n",
       "      <td>Portugal</td>\n",
       "      <td>729</td>\n",
       "      <td>1867-04-08</td>\n",
       "      <td>rec_flu</td>\n",
       "    </tr>\n",
       "  </tbody>\n",
       "</table>\n",
       "<p>891 rows × 4 columns</p>\n",
       "</div>"
      ],
      "text/plain": [
       "    country_origin  PassengerId Boarding_date status_diseases\n",
       "0           Norway          884    1867-04-23   inf_pneumonia\n",
       "1           French          765    1867-05-01     inf_measles\n",
       "2           France          355    1867-04-03   inf_pneumonia\n",
       "3            Spain           56    1867-03-24     rec_measles\n",
       "4               UK           96    1867-04-15     inf_measles\n",
       "..             ...          ...           ...             ...\n",
       "886             uk          140    1867-04-22   inf_pneumonia\n",
       "887             uk          829    1867-04-29   rec_pneumonia\n",
       "888       Den_mark           27    1867-04-12         rec_flu\n",
       "889         France          257    1867-04-01   inf_pneumonia\n",
       "890       Portugal          729    1867-04-08         rec_flu\n",
       "\n",
       "[891 rows x 4 columns]"
      ]
     },
     "execution_count": 13,
     "metadata": {},
     "output_type": "execute_result"
    }
   ],
   "source": [
    "url1 \"https://raw.githubusercontent.com/rock-feller/Datasets_for_Education/main/data_01/titanic_losgistics.csv\"\n",
    "df1 = pd.read_csv(url1)\n",
    "df1"
   ]
  },
  {
   "cell_type": "markdown",
   "id": "acd86ada",
   "metadata": {},
   "source": [
    "## 4. Looking at the columns, are they all tidy? If not, describe the process to tidy them."
   ]
  },
  {
   "cell_type": "markdown",
   "id": "6bbcbc2f",
   "metadata": {},
   "source": [
    "* After looking at the columns carefully, we find the all are not in the tidy form. One of the assumption of tidy data is that each variable should form a column and then give one information. But we remark the last variable of the data (status_diseases) give two information. The first on the status of people with two outcomes : \"inf\" and \"rec\" and the second one on the type of disease they suffered.\n",
    "\n",
    "* To tidy this data we firstly split the variable \"status_diseases\" into two variables: \"status\" and \"diseases\", we assign this operation to a variable called \"var_split\". After that we extract all the first element of that variable which is a series and we assign to our two variables \"status\" and \"diseases\". Then, we assign the parts to new dataframe columns and finally we drop the odd variable \"status_diseases\".\n",
    "\n",
    "* Also, we can see that in the column \"country_origin\" there are some countries which are written in different ways like French and France. So we need to remplace them by using the function replace.\n",
    "\n",
    "* Another thing we may do is to sort the values of \"PassengerId\" by ascending but it is not obliged.\n",
    "\n",
    "The three following cells show how to do it by code."
   ]
  },
  {
   "cell_type": "code",
   "execution_count": 14,
   "id": "2fa4246e",
   "metadata": {},
   "outputs": [
    {
     "name": "stdout",
     "output_type": "stream",
     "text": [
      "<class 'pandas.core.series.Series'>\n"
     ]
    },
    {
     "data": {
      "text/html": [
       "<div>\n",
       "<style scoped>\n",
       "    .dataframe tbody tr th:only-of-type {\n",
       "        vertical-align: middle;\n",
       "    }\n",
       "\n",
       "    .dataframe tbody tr th {\n",
       "        vertical-align: top;\n",
       "    }\n",
       "\n",
       "    .dataframe thead th {\n",
       "        text-align: right;\n",
       "    }\n",
       "</style>\n",
       "<table border=\"1\" class=\"dataframe\">\n",
       "  <thead>\n",
       "    <tr style=\"text-align: right;\">\n",
       "      <th></th>\n",
       "      <th>country_origin</th>\n",
       "      <th>PassengerId</th>\n",
       "      <th>Boarding_date</th>\n",
       "      <th>status</th>\n",
       "      <th>diseases</th>\n",
       "    </tr>\n",
       "  </thead>\n",
       "  <tbody>\n",
       "    <tr>\n",
       "      <th>0</th>\n",
       "      <td>Norway</td>\n",
       "      <td>884</td>\n",
       "      <td>1867-04-23</td>\n",
       "      <td>inf</td>\n",
       "      <td>pneumonia</td>\n",
       "    </tr>\n",
       "    <tr>\n",
       "      <th>1</th>\n",
       "      <td>French</td>\n",
       "      <td>765</td>\n",
       "      <td>1867-05-01</td>\n",
       "      <td>inf</td>\n",
       "      <td>measles</td>\n",
       "    </tr>\n",
       "    <tr>\n",
       "      <th>2</th>\n",
       "      <td>France</td>\n",
       "      <td>355</td>\n",
       "      <td>1867-04-03</td>\n",
       "      <td>inf</td>\n",
       "      <td>pneumonia</td>\n",
       "    </tr>\n",
       "    <tr>\n",
       "      <th>3</th>\n",
       "      <td>Spain</td>\n",
       "      <td>56</td>\n",
       "      <td>1867-03-24</td>\n",
       "      <td>rec</td>\n",
       "      <td>measles</td>\n",
       "    </tr>\n",
       "    <tr>\n",
       "      <th>4</th>\n",
       "      <td>UK</td>\n",
       "      <td>96</td>\n",
       "      <td>1867-04-15</td>\n",
       "      <td>inf</td>\n",
       "      <td>measles</td>\n",
       "    </tr>\n",
       "    <tr>\n",
       "      <th>...</th>\n",
       "      <td>...</td>\n",
       "      <td>...</td>\n",
       "      <td>...</td>\n",
       "      <td>...</td>\n",
       "      <td>...</td>\n",
       "    </tr>\n",
       "    <tr>\n",
       "      <th>886</th>\n",
       "      <td>uk</td>\n",
       "      <td>140</td>\n",
       "      <td>1867-04-22</td>\n",
       "      <td>inf</td>\n",
       "      <td>pneumonia</td>\n",
       "    </tr>\n",
       "    <tr>\n",
       "      <th>887</th>\n",
       "      <td>uk</td>\n",
       "      <td>829</td>\n",
       "      <td>1867-04-29</td>\n",
       "      <td>rec</td>\n",
       "      <td>pneumonia</td>\n",
       "    </tr>\n",
       "    <tr>\n",
       "      <th>888</th>\n",
       "      <td>Den_mark</td>\n",
       "      <td>27</td>\n",
       "      <td>1867-04-12</td>\n",
       "      <td>rec</td>\n",
       "      <td>flu</td>\n",
       "    </tr>\n",
       "    <tr>\n",
       "      <th>889</th>\n",
       "      <td>France</td>\n",
       "      <td>257</td>\n",
       "      <td>1867-04-01</td>\n",
       "      <td>inf</td>\n",
       "      <td>pneumonia</td>\n",
       "    </tr>\n",
       "    <tr>\n",
       "      <th>890</th>\n",
       "      <td>Portugal</td>\n",
       "      <td>729</td>\n",
       "      <td>1867-04-08</td>\n",
       "      <td>rec</td>\n",
       "      <td>flu</td>\n",
       "    </tr>\n",
       "  </tbody>\n",
       "</table>\n",
       "<p>891 rows × 5 columns</p>\n",
       "</div>"
      ],
      "text/plain": [
       "    country_origin  PassengerId Boarding_date status   diseases\n",
       "0           Norway          884    1867-04-23    inf  pneumonia\n",
       "1           French          765    1867-05-01    inf    measles\n",
       "2           France          355    1867-04-03    inf  pneumonia\n",
       "3            Spain           56    1867-03-24    rec    measles\n",
       "4               UK           96    1867-04-15    inf    measles\n",
       "..             ...          ...           ...    ...        ...\n",
       "886             uk          140    1867-04-22    inf  pneumonia\n",
       "887             uk          829    1867-04-29    rec  pneumonia\n",
       "888       Den_mark           27    1867-04-12    rec        flu\n",
       "889         France          257    1867-04-01    inf  pneumonia\n",
       "890       Portugal          729    1867-04-08    rec        flu\n",
       "\n",
       "[891 rows x 5 columns]"
      ]
     },
     "execution_count": 14,
     "metadata": {},
     "output_type": "execute_result"
    }
   ],
   "source": [
    "###### Let us rearrange the variable status_diseases ####\n",
    "\n",
    "df2 = df1  # let us make a copy \n",
    "# split status_diseases into two variables\n",
    "var_split = df2['status_diseases'].str.split('_')\n",
    "print(type(var_split))\n",
    "\n",
    "# save each part to a separate variable\n",
    "status = var_split.str.get(0)  # to extract all the first elements of the series\n",
    "diseases = var_split.str.get(1) # to extract all the second elements\n",
    "\n",
    "# assign the parts to new dataframe columns\n",
    "df2['status'] = status\n",
    "df2['diseases'] = diseases\n",
    "\n",
    "# drop the initial variable\n",
    "df2 = df2.drop(\"status_diseases\", axis = 1)\n",
    "df2"
   ]
  },
  {
   "cell_type": "markdown",
   "id": "af65bf30",
   "metadata": {},
   "source": [
    "We can remark that our data set include now variables \"status\" and \"diseases\". Now let us check if the variable \"country_origin\" is okay and tidy it if not."
   ]
  },
  {
   "cell_type": "code",
   "execution_count": 15,
   "id": "8579bd1f",
   "metadata": {},
   "outputs": [
    {
     "data": {
      "text/plain": [
       "array(['Norway', 'French', 'France', 'Spain', 'UK', 'uk', 'Romania',\n",
       "       'Netherlands', 'Italy', 'United Kingdom', 'Poland', 'Denmark',\n",
       "       'Portugal', 'Montenegro', 'Den_mark'], dtype=object)"
      ]
     },
     "execution_count": 15,
     "metadata": {},
     "output_type": "execute_result"
    }
   ],
   "source": [
    "df2.country_origin.unique()\n"
   ]
  },
  {
   "cell_type": "markdown",
   "id": "9fc67aca",
   "metadata": {},
   "source": [
    "We can see that the countries France, UK and Denmark appear it different way. So let us choose one name to call each of them."
   ]
  },
  {
   "cell_type": "code",
   "execution_count": 16,
   "id": "3c0c7b75",
   "metadata": {},
   "outputs": [
    {
     "data": {
      "text/plain": [
       "array(['Norway', 'France', 'Spain', 'United Kingdom', 'Romania',\n",
       "       'Netherlands', 'Italy', 'Poland', 'Denmark', 'Portugal',\n",
       "       'Montenegro'], dtype=object)"
      ]
     },
     "execution_count": 16,
     "metadata": {},
     "output_type": "execute_result"
    }
   ],
   "source": [
    "df2.country_origin.replace(\"French\", \"France\", inplace = True)\n",
    "df2.country_origin.replace(\"UK\", \"United Kingdom\", inplace = True)\n",
    "df2.country_origin.replace(\"uk\", \"United Kingdom\", inplace = True)\n",
    "df2.country_origin.replace(\"Den_mark\", \"Denmark\", inplace = True)\n",
    "df2.country_origin.unique()"
   ]
  },
  {
   "cell_type": "markdown",
   "id": "9e86acd0",
   "metadata": {},
   "source": [
    "The problem is solved. We can sort the variable \"PassengerId\" now."
   ]
  },
  {
   "cell_type": "code",
   "execution_count": 17,
   "id": "15d2b029",
   "metadata": {},
   "outputs": [
    {
     "data": {
      "text/html": [
       "<div>\n",
       "<style scoped>\n",
       "    .dataframe tbody tr th:only-of-type {\n",
       "        vertical-align: middle;\n",
       "    }\n",
       "\n",
       "    .dataframe tbody tr th {\n",
       "        vertical-align: top;\n",
       "    }\n",
       "\n",
       "    .dataframe thead th {\n",
       "        text-align: right;\n",
       "    }\n",
       "</style>\n",
       "<table border=\"1\" class=\"dataframe\">\n",
       "  <thead>\n",
       "    <tr style=\"text-align: right;\">\n",
       "      <th></th>\n",
       "      <th>country_origin</th>\n",
       "      <th>PassengerId</th>\n",
       "      <th>Boarding_date</th>\n",
       "      <th>status</th>\n",
       "      <th>diseases</th>\n",
       "    </tr>\n",
       "  </thead>\n",
       "  <tbody>\n",
       "    <tr>\n",
       "      <th>455</th>\n",
       "      <td>Denmark</td>\n",
       "      <td>1</td>\n",
       "      <td>1867-03-29</td>\n",
       "      <td>rec</td>\n",
       "      <td>flu</td>\n",
       "    </tr>\n",
       "    <tr>\n",
       "      <th>364</th>\n",
       "      <td>Italy</td>\n",
       "      <td>2</td>\n",
       "      <td>1867-04-17</td>\n",
       "      <td>inf</td>\n",
       "      <td>pneumonia</td>\n",
       "    </tr>\n",
       "    <tr>\n",
       "      <th>28</th>\n",
       "      <td>Romania</td>\n",
       "      <td>3</td>\n",
       "      <td>1867-05-01</td>\n",
       "      <td>inf</td>\n",
       "      <td>pneumonia</td>\n",
       "    </tr>\n",
       "    <tr>\n",
       "      <th>49</th>\n",
       "      <td>Italy</td>\n",
       "      <td>4</td>\n",
       "      <td>1867-03-15</td>\n",
       "      <td>inf</td>\n",
       "      <td>pneumonia</td>\n",
       "    </tr>\n",
       "    <tr>\n",
       "      <th>52</th>\n",
       "      <td>Norway</td>\n",
       "      <td>5</td>\n",
       "      <td>1867-04-21</td>\n",
       "      <td>inf</td>\n",
       "      <td>pneumonia</td>\n",
       "    </tr>\n",
       "    <tr>\n",
       "      <th>...</th>\n",
       "      <td>...</td>\n",
       "      <td>...</td>\n",
       "      <td>...</td>\n",
       "      <td>...</td>\n",
       "      <td>...</td>\n",
       "    </tr>\n",
       "    <tr>\n",
       "      <th>680</th>\n",
       "      <td>United Kingdom</td>\n",
       "      <td>887</td>\n",
       "      <td>1867-04-20</td>\n",
       "      <td>inf</td>\n",
       "      <td>measles</td>\n",
       "    </tr>\n",
       "    <tr>\n",
       "      <th>503</th>\n",
       "      <td>Denmark</td>\n",
       "      <td>888</td>\n",
       "      <td>1867-03-25</td>\n",
       "      <td>rec</td>\n",
       "      <td>measles</td>\n",
       "    </tr>\n",
       "    <tr>\n",
       "      <th>389</th>\n",
       "      <td>United Kingdom</td>\n",
       "      <td>889</td>\n",
       "      <td>1867-05-02</td>\n",
       "      <td>rec</td>\n",
       "      <td>flu</td>\n",
       "    </tr>\n",
       "    <tr>\n",
       "      <th>64</th>\n",
       "      <td>United Kingdom</td>\n",
       "      <td>890</td>\n",
       "      <td>1867-04-22</td>\n",
       "      <td>rec</td>\n",
       "      <td>pneumonia</td>\n",
       "    </tr>\n",
       "    <tr>\n",
       "      <th>576</th>\n",
       "      <td>Montenegro</td>\n",
       "      <td>891</td>\n",
       "      <td>1867-03-14</td>\n",
       "      <td>inf</td>\n",
       "      <td>pneumonia</td>\n",
       "    </tr>\n",
       "  </tbody>\n",
       "</table>\n",
       "<p>891 rows × 5 columns</p>\n",
       "</div>"
      ],
      "text/plain": [
       "     country_origin  PassengerId Boarding_date status   diseases\n",
       "455         Denmark            1    1867-03-29    rec        flu\n",
       "364           Italy            2    1867-04-17    inf  pneumonia\n",
       "28          Romania            3    1867-05-01    inf  pneumonia\n",
       "49            Italy            4    1867-03-15    inf  pneumonia\n",
       "52           Norway            5    1867-04-21    inf  pneumonia\n",
       "..              ...          ...           ...    ...        ...\n",
       "680  United Kingdom          887    1867-04-20    inf    measles\n",
       "503         Denmark          888    1867-03-25    rec    measles\n",
       "389  United Kingdom          889    1867-05-02    rec        flu\n",
       "64   United Kingdom          890    1867-04-22    rec  pneumonia\n",
       "576      Montenegro          891    1867-03-14    inf  pneumonia\n",
       "\n",
       "[891 rows x 5 columns]"
      ]
     },
     "execution_count": 17,
     "metadata": {},
     "output_type": "execute_result"
    }
   ],
   "source": [
    "df2.sort_values(by=\"PassengerId\", inplace = True)\n",
    "df2"
   ]
  },
  {
   "cell_type": "markdown",
   "id": "4b04b44b",
   "metadata": {},
   "source": [
    "Now we are ready to go further."
   ]
  },
  {
   "cell_type": "markdown",
   "id": "778364cc",
   "metadata": {},
   "source": [
    "## 5. Merge the two dataframes together. You may want to look carefully before you do the merging operation."
   ]
  },
  {
   "cell_type": "code",
   "execution_count": 20,
   "id": "2fb3ae70",
   "metadata": {},
   "outputs": [
    {
     "data": {
      "text/html": [
       "<div>\n",
       "<style scoped>\n",
       "    .dataframe tbody tr th:only-of-type {\n",
       "        vertical-align: middle;\n",
       "    }\n",
       "\n",
       "    .dataframe tbody tr th {\n",
       "        vertical-align: top;\n",
       "    }\n",
       "\n",
       "    .dataframe thead th {\n",
       "        text-align: right;\n",
       "    }\n",
       "</style>\n",
       "<table border=\"1\" class=\"dataframe\">\n",
       "  <thead>\n",
       "    <tr style=\"text-align: right;\">\n",
       "      <th></th>\n",
       "      <th>PassengerId</th>\n",
       "      <th>Survived</th>\n",
       "      <th>Pclass</th>\n",
       "      <th>Name</th>\n",
       "      <th>Sex</th>\n",
       "      <th>Age</th>\n",
       "      <th>SibSp</th>\n",
       "      <th>Parch</th>\n",
       "      <th>Ticket</th>\n",
       "      <th>Fare</th>\n",
       "      <th>Cabin</th>\n",
       "      <th>Embarked</th>\n",
       "      <th>country_origin</th>\n",
       "      <th>Boarding_date</th>\n",
       "      <th>status</th>\n",
       "      <th>diseases</th>\n",
       "    </tr>\n",
       "  </thead>\n",
       "  <tbody>\n",
       "    <tr>\n",
       "      <th>0</th>\n",
       "      <td>1</td>\n",
       "      <td>0</td>\n",
       "      <td>3</td>\n",
       "      <td>Braund, Mr. Owen Harris</td>\n",
       "      <td>male</td>\n",
       "      <td>22.0</td>\n",
       "      <td>1</td>\n",
       "      <td>0</td>\n",
       "      <td>A/5 21171</td>\n",
       "      <td>7.2500</td>\n",
       "      <td>NaN</td>\n",
       "      <td>S</td>\n",
       "      <td>Denmark</td>\n",
       "      <td>1867-03-29</td>\n",
       "      <td>rec</td>\n",
       "      <td>flu</td>\n",
       "    </tr>\n",
       "    <tr>\n",
       "      <th>1</th>\n",
       "      <td>2</td>\n",
       "      <td>1</td>\n",
       "      <td>1</td>\n",
       "      <td>Cumings, Mrs. John Bradley (Florence Briggs Th...</td>\n",
       "      <td>female</td>\n",
       "      <td>38.0</td>\n",
       "      <td>1</td>\n",
       "      <td>0</td>\n",
       "      <td>PC 17599</td>\n",
       "      <td>71.2833</td>\n",
       "      <td>C85</td>\n",
       "      <td>C</td>\n",
       "      <td>Italy</td>\n",
       "      <td>1867-04-17</td>\n",
       "      <td>inf</td>\n",
       "      <td>pneumonia</td>\n",
       "    </tr>\n",
       "    <tr>\n",
       "      <th>2</th>\n",
       "      <td>3</td>\n",
       "      <td>1</td>\n",
       "      <td>3</td>\n",
       "      <td>Heikkinen, Miss. Laina</td>\n",
       "      <td>female</td>\n",
       "      <td>26.0</td>\n",
       "      <td>0</td>\n",
       "      <td>0</td>\n",
       "      <td>STON/O2. 3101282</td>\n",
       "      <td>7.9250</td>\n",
       "      <td>NaN</td>\n",
       "      <td>S</td>\n",
       "      <td>Romania</td>\n",
       "      <td>1867-05-01</td>\n",
       "      <td>inf</td>\n",
       "      <td>pneumonia</td>\n",
       "    </tr>\n",
       "    <tr>\n",
       "      <th>3</th>\n",
       "      <td>4</td>\n",
       "      <td>1</td>\n",
       "      <td>1</td>\n",
       "      <td>Futrelle, Mrs. Jacques Heath (Lily May Peel)</td>\n",
       "      <td>female</td>\n",
       "      <td>35.0</td>\n",
       "      <td>1</td>\n",
       "      <td>0</td>\n",
       "      <td>113803</td>\n",
       "      <td>53.1000</td>\n",
       "      <td>C123</td>\n",
       "      <td>S</td>\n",
       "      <td>Italy</td>\n",
       "      <td>1867-03-15</td>\n",
       "      <td>inf</td>\n",
       "      <td>pneumonia</td>\n",
       "    </tr>\n",
       "    <tr>\n",
       "      <th>4</th>\n",
       "      <td>5</td>\n",
       "      <td>0</td>\n",
       "      <td>3</td>\n",
       "      <td>Allen, Mr. William Henry</td>\n",
       "      <td>male</td>\n",
       "      <td>35.0</td>\n",
       "      <td>0</td>\n",
       "      <td>0</td>\n",
       "      <td>373450</td>\n",
       "      <td>8.0500</td>\n",
       "      <td>NaN</td>\n",
       "      <td>S</td>\n",
       "      <td>Norway</td>\n",
       "      <td>1867-04-21</td>\n",
       "      <td>inf</td>\n",
       "      <td>pneumonia</td>\n",
       "    </tr>\n",
       "  </tbody>\n",
       "</table>\n",
       "</div>"
      ],
      "text/plain": [
       "   PassengerId  Survived  Pclass  \\\n",
       "0            1         0       3   \n",
       "1            2         1       1   \n",
       "2            3         1       3   \n",
       "3            4         1       1   \n",
       "4            5         0       3   \n",
       "\n",
       "                                                Name     Sex   Age  SibSp  \\\n",
       "0                            Braund, Mr. Owen Harris    male  22.0      1   \n",
       "1  Cumings, Mrs. John Bradley (Florence Briggs Th...  female  38.0      1   \n",
       "2                             Heikkinen, Miss. Laina  female  26.0      0   \n",
       "3       Futrelle, Mrs. Jacques Heath (Lily May Peel)  female  35.0      1   \n",
       "4                           Allen, Mr. William Henry    male  35.0      0   \n",
       "\n",
       "   Parch            Ticket     Fare Cabin Embarked country_origin  \\\n",
       "0      0         A/5 21171   7.2500   NaN        S        Denmark   \n",
       "1      0          PC 17599  71.2833   C85        C          Italy   \n",
       "2      0  STON/O2. 3101282   7.9250   NaN        S        Romania   \n",
       "3      0            113803  53.1000  C123        S          Italy   \n",
       "4      0            373450   8.0500   NaN        S         Norway   \n",
       "\n",
       "  Boarding_date status   diseases  \n",
       "0    1867-03-29    rec        flu  \n",
       "1    1867-04-17    inf  pneumonia  \n",
       "2    1867-05-01    inf  pneumonia  \n",
       "3    1867-03-15    inf  pneumonia  \n",
       "4    1867-04-21    inf  pneumonia  "
      ]
     },
     "execution_count": 20,
     "metadata": {},
     "output_type": "execute_result"
    }
   ],
   "source": [
    "Merge_titanic = df.merge(df2, on = \"PassengerId\") # We merge on PassengerId because it appeears twice.\n",
    "Merge_titanic.head()"
   ]
  },
  {
   "cell_type": "code",
   "execution_count": 21,
   "id": "6006a69a",
   "metadata": {},
   "outputs": [
    {
     "name": "stdout",
     "output_type": "stream",
     "text": [
      "<class 'pandas.core.frame.DataFrame'>\n",
      "Int64Index: 891 entries, 0 to 890\n",
      "Data columns (total 16 columns):\n",
      " #   Column          Non-Null Count  Dtype  \n",
      "---  ------          --------------  -----  \n",
      " 0   PassengerId     891 non-null    int64  \n",
      " 1   Survived        891 non-null    int64  \n",
      " 2   Pclass          891 non-null    int64  \n",
      " 3   Name            891 non-null    object \n",
      " 4   Sex             891 non-null    object \n",
      " 5   Age             714 non-null    float64\n",
      " 6   SibSp           891 non-null    int64  \n",
      " 7   Parch           891 non-null    int64  \n",
      " 8   Ticket          891 non-null    object \n",
      " 9   Fare            891 non-null    float64\n",
      " 10  Cabin           204 non-null    object \n",
      " 11  Embarked        889 non-null    object \n",
      " 12  country_origin  891 non-null    object \n",
      " 13  Boarding_date   891 non-null    object \n",
      " 14  status          891 non-null    object \n",
      " 15  diseases        891 non-null    object \n",
      "dtypes: float64(2), int64(5), object(9)\n",
      "memory usage: 118.3+ KB\n"
     ]
    }
   ],
   "source": [
    "Merge_titanic.info()"
   ]
  },
  {
   "cell_type": "markdown",
   "id": "e65083b5",
   "metadata": {},
   "source": [
    "After merging, we have 16 variables with 891 observations. We still have three variables with missing values."
   ]
  },
  {
   "cell_type": "markdown",
   "id": "33870238",
   "metadata": {},
   "source": [
    "## 6. On weekends, It was speculated that on average ticket fare were more expensive than on weekdays. Let us check if what was a case.\n",
    "\n",
    "To do so, we need to transform first the variable \"Boarding_date\" into datetime. After that we will find the corresponding days."
   ]
  },
  {
   "cell_type": "code",
   "execution_count": 26,
   "id": "24cbceb7",
   "metadata": {},
   "outputs": [],
   "source": [
    "### datetime###\n",
    "Merge_titanic[\"Boarding_date\"] = Merge_titanic[\"Boarding_date\"].apply(pd.to_datetime)"
   ]
  },
  {
   "cell_type": "code",
   "execution_count": 25,
   "id": "e3d1a1a9",
   "metadata": {},
   "outputs": [
    {
     "data": {
      "text/plain": [
       "array(['Friday', 'Wednesday', 'Sunday', 'Saturday', 'Thursday', 'Tuesday',\n",
       "       'Monday'], dtype=object)"
      ]
     },
     "execution_count": 25,
     "metadata": {},
     "output_type": "execute_result"
    }
   ],
   "source": [
    "### Corresponding days ###\n",
    "Merge_titanic[\"Days\"] = [x.day_name() for x in Merge_titanic[\"Boarding_date\"]]\n",
    "Merge_titanic[\"Days\"].unique() "
   ]
  },
  {
   "cell_type": "markdown",
   "id": "94676df1",
   "metadata": {},
   "source": [
    "By this, we can see the different days, the weekends are \"Saturday\" and \"Sunday\" and the weekydays here are \"Wednesday\", \"Thursday\" and \"Friday\"."
   ]
  },
  {
   "cell_type": "code",
   "execution_count": 41,
   "id": "bb60f779",
   "metadata": {},
   "outputs": [
    {
     "data": {
      "text/plain": [
       "Fare    30.351441\n",
       "dtype: float64"
      ]
     },
     "execution_count": 41,
     "metadata": {},
     "output_type": "execute_result"
    }
   ],
   "source": [
    "### Mean of ticket fare on weekends ###\n",
    "Merge_titanic.loc[(Merge_titanic[\"Days\"]== \"Saturday\") \n",
    "                  | (Merge_titanic[\"Days\"]== \"Sunday\"), [\"Fare\"]].mean()"
   ]
  },
  {
   "cell_type": "code",
   "execution_count": 46,
   "id": "08110ecc",
   "metadata": {},
   "outputs": [
    {
     "data": {
      "text/plain": [
       "Fare    32.875624\n",
       "dtype: float64"
      ]
     },
     "execution_count": 46,
     "metadata": {},
     "output_type": "execute_result"
    }
   ],
   "source": [
    "### Mean of ticket fare on weekdays ###\n",
    "Merge_titanic.loc[(Merge_titanic[\"Days\"]== \"Monday\")|(Merge_titanic[\"Days\"]== \"Tuesday\")\n",
    "                  |(Merge_titanic[\"Days\"]== \"Wednesday\") | \n",
    "                  (Merge_titanic[\"Days\"]== \"Thursday\")| (Merge_titanic[\"Days\"]== \"Friday\"), [\"Fare\"]].mean()"
   ]
  },
  {
   "cell_type": "markdown",
   "id": "f86b98ba",
   "metadata": {},
   "source": [
    "We can see that on weekends, the average ticket fare is approximately **30.4 British pound** which is less than **32.87 British pound** on weekdays. So it was more expensive on weekdays than on weekends. We therefore say that the speculation of people on the ticket fare was not the case. But it true that people would expected that the ticket fare be more expensive on weekends since they are resting days. "
   ]
  },
  {
   "cell_type": "markdown",
   "id": "1166c62c",
   "metadata": {},
   "source": [
    "## 7. People also boarded on the Titanic with infectuous diseases. How many of them were reported infected at the time they embarked on the boat? What is the proportion of infected people that came from the upper class?"
   ]
  },
  {
   "cell_type": "code",
   "execution_count": 48,
   "id": "22a78260",
   "metadata": {},
   "outputs": [
    {
     "data": {
      "text/plain": [
       "Pclass    451\n",
       "dtype: int64"
      ]
     },
     "execution_count": 48,
     "metadata": {},
     "output_type": "execute_result"
    }
   ],
   "source": [
    "yu = Merge_titanic.loc[Merge_titanic[\"status\"]== \"inf\", [\"Pclass\"]]\n",
    "yu.shape"
   ]
  },
  {
   "cell_type": "markdown",
   "id": "c6b911b4",
   "metadata": {},
   "source": [
    "We can see that **451 out of 891** were reported infected at the time they embarked on the boat. Now let us find the proportion of people that came from the upper class."
   ]
  },
  {
   "cell_type": "code",
   "execution_count": 53,
   "id": "75823866",
   "metadata": {},
   "outputs": [
    {
     "data": {
      "text/plain": [
       "Pclass\n",
       "3    0.578714\n",
       "1    0.226164\n",
       "2    0.195122\n",
       "dtype: float64"
      ]
     },
     "execution_count": 53,
     "metadata": {},
     "output_type": "execute_result"
    }
   ],
   "source": [
    "yu.value_counts(subset=\"Pclass\", normalize=True)\n",
    "    "
   ]
  },
  {
   "cell_type": "markdown",
   "id": "057b8558",
   "metadata": {},
   "source": [
    "$22.6\\%$ of people who were reported infected came from the upper class."
   ]
  },
  {
   "cell_type": "markdown",
   "id": "9d4b0ff9",
   "metadata": {},
   "source": [
    "## 8. Let us display the proportion of infected passengers per disease and the number of recovered passengers per gender. \n",
    "\n",
    "Let us start by visualizing the proportion of diseases."
   ]
  },
  {
   "cell_type": "code",
   "execution_count": 65,
   "id": "f1623c46",
   "metadata": {},
   "outputs": [],
   "source": [
    "# Get status and diseases and assignm to the new series #\n",
    "Diseases = Merge_titanic[[\"status\", \"diseases\"]]\n",
    "\n",
    "inf_d = pd.DataFrame(Diseases.value_counts(subset = [\"status\", \"diseases\"]), columns = [\"count\"])\n",
    "inf_d.reset_index(inplace = True)"
   ]
  },
  {
   "cell_type": "code",
   "execution_count": 67,
   "id": "0cd4910f",
   "metadata": {},
   "outputs": [
    {
     "data": {
      "image/png": "[encoded data removed]",
      "text/plain": [
       "<Figure size 800x500 with 1 Axes>"
      ]
     },
     "metadata": {
      "needs_background": "light"
     },
     "output_type": "display_data"
    }
   ],
   "source": [
    "plt.figure(dpi = 100, figsize = (8,5))\n",
    "snb.barplot(x = \"diseases\", y = \"count\", hue = \"status\", saturation = 0.8,  data = inf_d)\n",
    "plt.title(\"Proportion of infected passengers per disease\")\n",
    "plt.show()"
   ]
  },
  {
   "cell_type": "markdown",
   "id": "0ae1a837",
   "metadata": {},
   "source": [
    "From the barplot above, we can see than \"pneumonia\" is the disease that people were more infected. \"flu\" and \"measles\" have approximately the same proportion of infected people."
   ]
  },
  {
   "cell_type": "code",
   "execution_count": 69,
   "id": "d9f12bc0",
   "metadata": {},
   "outputs": [],
   "source": [
    "# Get status and diseases and assignm to the new series #\n",
    "Gender = Merge_titanic[[\"status\", \"Sex\"]]\n",
    "\n",
    "inf_d = pd.DataFrame(Gender.value_counts(subset = [\"status\", \"Sex\"]), columns = [\"count\"])\n",
    "inf_d.reset_index(inplace = True)"
   ]
  },
  {
   "cell_type": "code",
   "execution_count": 70,
   "id": "1e5ac2f9",
   "metadata": {},
   "outputs": [
    {
     "data": {
      "image/png": "[encoded data removed]",
      "text/plain": [
       "<Figure size 800x500 with 1 Axes>"
      ]
     },
     "metadata": {
      "needs_background": "light"
     },
     "output_type": "display_data"
    }
   ],
   "source": [
    "plt.figure(dpi = 100, figsize = (8,5))\n",
    "snb.barplot(x = \"Sex\", y = \"count\", hue = \"status\", saturation = 0.8,  data = inf_d)\n",
    "plt.title(\"Proportion of recovered passengers per gender\")\n",
    "plt.show()"
   ]
  },
  {
   "cell_type": "markdown",
   "id": "c65916f6",
   "metadata": {},
   "source": [
    "We can observe the proportion of male who recovered is higher than the one of female. This may be because of the fact than men were the most infected."
   ]
  },
  {
   "cell_type": "markdown",
   "id": "c6bac4b3",
   "metadata": {},
   "source": [
    "## 10. Among the ones that survived, which gender had an average higher motricity index?"
   ]
  },
  {
   "cell_type": "code",
   "execution_count": null,
   "id": "6a6e0d9c",
   "metadata": {},
   "outputs": [],
   "source": [
    "Merge_titanic.loc[(Merge_titanic[\"Survived\"]==1), [\"Sex\", \"motricity_index\"]].mean()"
   ]
  }
 ],
 "metadata": {
  "kernelspec": {
   "display_name": "Python 3 (ipykernel)",
   "language": "python",
   "name": "python3"
  },
  "language_info": {
   "codemirror_mode": {
    "name": "ipython",
    "version": 3
   },
   "file_extension": ".py",
   "mimetype": "text/x-python",
   "name": "python",
   "nbconvert_exporter": "python",
   "pygments_lexer": "ipython3",
   "version": "3.9.13"
  }
 },
 "nbformat": 4,
 "nbformat_minor": 5
}
